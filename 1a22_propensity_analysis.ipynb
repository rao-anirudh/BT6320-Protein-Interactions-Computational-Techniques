{
 "cells": [
  {
   "cell_type": "code",
   "execution_count": 1,
   "id": "995a0ba3",
   "metadata": {},
   "outputs": [],
   "source": [
    "import numpy as np\n",
    "import pandas as pd"
   ]
  },
  {
   "cell_type": "code",
   "execution_count": 2,
   "id": "2bd026e9",
   "metadata": {},
   "outputs": [],
   "source": [
    "hormone = pd.read_excel(\"1a22_solvent_accessibility.xlsx\",sheet_name=0).fillna(\"-\").set_index(\"Index\")\n",
    "receptor = pd.read_excel(\"1a22_solvent_accessibility.xlsx\",sheet_name=1).fillna(\"-\").set_index(\"Index\")\n",
    "protein_complex = pd.read_excel(\"1a22_solvent_accessibility.xlsx\",sheet_name=2).fillna(\"-\")"
   ]
  },
  {
   "cell_type": "code",
   "execution_count": 3,
   "id": "fb65bfcd",
   "metadata": {},
   "outputs": [],
   "source": [
    "hormone[\"Residue\"] = hormone[\"Residue in complex\"].apply(lambda x: x[:3] if x != \"-\" else \"-\")\n",
    "receptor[\"Residue\"] = receptor[\"Residue in complex\"].apply(lambda x: x[:3] if x != \"-\" else \"-\")"
   ]
  },
  {
   "cell_type": "code",
   "execution_count": 4,
   "id": "d61eb912",
   "metadata": {},
   "outputs": [],
   "source": [
    "hormone_residues = dict(hormone[\"Residue\"].value_counts())\n",
    "receptor_residues = dict(receptor[\"Residue\"].value_counts())"
   ]
  },
  {
   "cell_type": "code",
   "execution_count": 5,
   "id": "efcf90c4",
   "metadata": {},
   "outputs": [],
   "source": [
    "hormone_interface_residues = dict(hormone[hormone[\"Binding Site\"]==\"Yes\"][\"Residue\"].value_counts())\n",
    "receptor_interface_residues = dict(receptor[receptor[\"Binding Site\"]==\"Yes\"][\"Residue\"].value_counts())"
   ]
  },
  {
   "cell_type": "code",
   "execution_count": 6,
   "id": "0ac18851",
   "metadata": {},
   "outputs": [],
   "source": [
    "hormone_propensities = dict()\n",
    "for residue in list(hormone_interface_residues.keys()):\n",
    "    hormone_propensities[residue] = round(100*hormone_interface_residues[residue]/hormone_residues[residue],2)\n",
    "hormone_propensities = {residue:prop for residue,prop in sorted(hormone_propensities.items(), key=lambda item: item[1], reverse=True)}"
   ]
  },
  {
   "cell_type": "code",
   "execution_count": 7,
   "id": "e47b55e0",
   "metadata": {},
   "outputs": [],
   "source": [
    "receptor_propensities = dict()\n",
    "for residue in list(receptor_interface_residues.keys()):\n",
    "    receptor_propensities[residue] = round(100*receptor_interface_residues[residue]/receptor_residues[residue],2)\n",
    "receptor_propensities = {residue:prop for residue,prop in sorted(receptor_propensities.items(), key=lambda item: item[1], reverse=True)}"
   ]
  },
  {
   "cell_type": "code",
   "execution_count": 8,
   "id": "5252540b",
   "metadata": {},
   "outputs": [
    {
     "name": "stdout",
     "output_type": "stream",
     "text": [
      "HIS\t100.0\n",
      "GLN\t84.62\n",
      "PRO\t71.43\n",
      "ALA\t71.43\n",
      "GLY\t66.67\n",
      "ARG\t63.64\n",
      "SER\t62.5\n",
      "TYR\t62.5\n",
      "ILE\t62.5\n",
      "VAL\t57.14\n",
      "ASN\t57.14\n",
      "LYS\t55.56\n",
      "LEU\t53.85\n",
      "PHE\t53.85\n",
      "CYS\t50.0\n",
      "ASP\t44.44\n",
      "GLU\t42.86\n",
      "THR\t33.33\n",
      "MET\t33.33\n"
     ]
    }
   ],
   "source": [
    "for res, prop in hormone_propensities.items():\n",
    "    print(f\"{res}\\t{prop}\")"
   ]
  },
  {
   "cell_type": "code",
   "execution_count": 9,
   "id": "956b6da5",
   "metadata": {},
   "outputs": [
    {
     "name": "stdout",
     "output_type": "stream",
     "text": [
      "GLU\t88.24\n",
      "TRP\t87.5\n",
      "ASP\t87.5\n",
      "GLN\t77.78\n",
      "LYS\t66.67\n",
      "ARG\t66.67\n",
      "ILE\t60.0\n",
      "ASN\t60.0\n",
      "ALA\t60.0\n",
      "THR\t57.14\n",
      "PHE\t57.14\n",
      "SER\t53.33\n",
      "GLY\t50.0\n",
      "CYS\t50.0\n",
      "MET\t50.0\n",
      "VAL\t35.71\n",
      "LEU\t33.33\n",
      "PRO\t25.0\n",
      "TYR\t20.0\n"
     ]
    }
   ],
   "source": [
    "for res, prop in receptor_propensities.items():\n",
    "    print(f\"{res}\\t{prop}\")"
   ]
  }
 ],
 "metadata": {
  "kernelspec": {
   "display_name": "Python 3 (ipykernel)",
   "language": "python",
   "name": "python3"
  },
  "language_info": {
   "codemirror_mode": {
    "name": "ipython",
    "version": 3
   },
   "file_extension": ".py",
   "mimetype": "text/x-python",
   "name": "python",
   "nbconvert_exporter": "python",
   "pygments_lexer": "ipython3",
   "version": "3.11.7"
  }
 },
 "nbformat": 4,
 "nbformat_minor": 5
}
